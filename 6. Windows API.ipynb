{
 "cells": [
  {
   "cell_type": "code",
   "execution_count": 1,
   "metadata": {},
   "outputs": [],
   "source": [
    "import secrets\n",
    "from win32com.client import Dispatch"
   ]
  },
  {
   "cell_type": "markdown",
   "metadata": {},
   "source": [
    "## Shell"
   ]
  },
  {
   "cell_type": "code",
   "execution_count": 2,
   "metadata": {},
   "outputs": [],
   "source": [
    "import os"
   ]
  },
  {
   "cell_type": "code",
   "execution_count": 3,
   "metadata": {},
   "outputs": [],
   "source": [
    "#Creates a Windows folder dialog and saves the selected path\n",
    "folderDialog = Dispatch(\"Shell.Application\")\n",
    "workingDir = folderDialog.BrowseForFolder(0, \"Select the folder in which to save the script output\", 0).Self.Path"
   ]
  },
  {
   "cell_type": "code",
   "execution_count": 4,
   "metadata": {},
   "outputs": [
    {
     "data": {
      "text/plain": [
       "'C:\\\\Users\\\\jroge12\\\\Desktop'"
      ]
     },
     "execution_count": 4,
     "metadata": {},
     "output_type": "execute_result"
    }
   ],
   "source": [
    "workingDir"
   ]
  },
  {
   "cell_type": "code",
   "execution_count": 6,
   "metadata": {},
   "outputs": [
    {
     "data": {
      "text/plain": [
       "'C:\\\\Users\\\\jroge12\\\\Desktop\\\\test.txt'"
      ]
     },
     "execution_count": 6,
     "metadata": {},
     "output_type": "execute_result"
    }
   ],
   "source": [
    "os.path.join(workingDir, 'test.txt')"
   ]
  },
  {
   "cell_type": "markdown",
   "metadata": {},
   "source": [
    "## Outlook"
   ]
  },
  {
   "cell_type": "code",
   "execution_count": 7,
   "metadata": {},
   "outputs": [],
   "source": [
    "def send_email(email_address):\n",
    "    olMailItem = 0x0\n",
    "    obj = Dispatch(\"Outlook.Application\")\n",
    "    newMail = obj.CreateItem(olMailItem)\n",
    "    newMail.Subject = \"Future of the Company\"\n",
    "    newMail.Body = \"If we have data, let’s look at data. If all we have are opinions, let’s go with mine. - Jim Barksdale\"\n",
    "    newMail.To = email_address\n",
    "    newMail.Send()    "
   ]
  },
  {
   "cell_type": "code",
   "execution_count": 8,
   "metadata": {},
   "outputs": [],
   "source": [
    "send_email(secrets.email)"
   ]
  },
  {
   "cell_type": "code",
   "execution_count": 14,
   "metadata": {},
   "outputs": [],
   "source": [
    "def download_attachment():\n",
    "    outlook = Dispatch(\"Outlook.Application\").GetNamespace(\"MAPI\")\n",
    "    inbox = outlook.GetDefaultFolder(\"6\").Folders.Item(\"PythonClass\")\n",
    "    all_emails = inbox.Items\n",
    "\n",
    "    for msg in all_emails:\n",
    "        if msg.Subject == \"Python Class Example\":# and msg.SentOn.day == now.day:\n",
    "            print(msg)\n",
    "            for att in msg.Attachments:\n",
    "                if att.FileName == \"housing.xlsx\":\n",
    "                    print(os.path.join(os.getcwd(), att.FileName))\n",
    "                    att.SaveASFile(os.path.join(os.getcwd(), att.FileName))\n",
    "                    break\n",
    "            break\n"
   ]
  },
  {
   "cell_type": "code",
   "execution_count": 15,
   "metadata": {},
   "outputs": [
    {
     "name": "stdout",
     "output_type": "stream",
     "text": [
      "Python Class Example\n",
      "C:\\Users\\jroge12\\Documents\\GitHub\\PythonClass\\housing.xlsx\n"
     ]
    }
   ],
   "source": [
    "download_attachment()"
   ]
  },
  {
   "cell_type": "markdown",
   "metadata": {},
   "source": [
    "## Browser"
   ]
  },
  {
   "cell_type": "code",
   "execution_count": null,
   "metadata": {},
   "outputs": [],
   "source": [
    "import webbrowser"
   ]
  },
  {
   "cell_type": "code",
   "execution_count": null,
   "metadata": {},
   "outputs": [],
   "source": [
    "webbrowser.open('https://news.ycombinator.com/');"
   ]
  },
  {
   "cell_type": "code",
   "execution_count": null,
   "metadata": {},
   "outputs": [],
   "source": [
    "def search_google(thing):\n",
    "    ie = Dispatch(\"InternetExplorer.Application\")\n",
    "    ie.Visible = 1\n",
    "    ie.Navigate('https://google.com/search?q=' + thing)"
   ]
  },
  {
   "cell_type": "code",
   "execution_count": null,
   "metadata": {},
   "outputs": [],
   "source": [
    "search_google('shish kabob')"
   ]
  },
  {
   "cell_type": "markdown",
   "metadata": {},
   "source": [
    "## Excel"
   ]
  },
  {
   "cell_type": "code",
   "execution_count": null,
   "metadata": {},
   "outputs": [],
   "source": [
    "o = Dispatch(\"Excel.Application\")\n",
    "o.Visible = 1\n",
    "o.Workbooks.Add()\n",
    "o.Cells(1,1).Value = \"Hello\""
   ]
  }
 ],
 "metadata": {
  "kernelspec": {
   "display_name": "Python 3",
   "language": "python",
   "name": "python3"
  },
  "language_info": {
   "codemirror_mode": {
    "name": "ipython",
    "version": 3
   },
   "file_extension": ".py",
   "mimetype": "text/x-python",
   "name": "python",
   "nbconvert_exporter": "python",
   "pygments_lexer": "ipython3",
   "version": "3.6.5"
  }
 },
 "nbformat": 4,
 "nbformat_minor": 2
}
